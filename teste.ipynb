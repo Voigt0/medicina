import json

# Conteúdo do notebook
notebook_content = {
    "cells": [
        {
            "cell_type": "markdown",
            "metadata": {},
            "source": [
                "# Guia Prático de Avaliação Clínica\n",
                "\n",
                "## Histórico Clínico\n",
                "\n",
                "### Alergias\n",
                "Registre qualquer alergia conhecida a medicamentos, alimentos, picadas de insetos, entre outros.\n",
                "\n",
                "### Comorbidades\n",
                "Liste doenças crônicas como hipertensão, diabetes, asma, entre outras.\n",
                "\n",
                "### Medicamentos de Uso Contínuo\n",
                "- Nome\n",
                "- Forma farmacêutica\n",
                "- Dose\n",
                "- Posologia (incluindo horários e interações)\n",
                "- Inclua se há uso de anticoncepcionais\n",
                "\n",
                "### Histórico Familiar\n",
                "Inclua doenças relevantes na família, como câncer, doenças cardiovasculares, diabetes, entre outras.\n",
                "\n",
                "### Hábitos e Vícios\n",
                "- Tabagismo\n",
                "- Etilismo\n",
                "- Uso de substâncias lícitas ou ilícitas\n",
                "\n",
                "### Ocupação\n",
                "Descreva a profissão do paciente e possíveis exposições a riscos ocupacionais.\n",
                "\n",
                "### Estado Civil\n",
                "Informe o estado civil e o contexto social relevante.\n",
                "\n",
                "## Vacinas\n",
                "Registre esquema vacinal atualizado, incluindo vacinas obrigatórias e recomendadas.\n",
                "\n",
                "## Antecedentes Obstétricos\n",
                "- G (Gestação)\n",
                "- P (Partos)\n",
                "- C (Cesáreas)\n",
                "- A (Abortos)\n",
                "\n",
                "## Acidente ou Doença do Trabalho\n",
                "Registre histórico de acidentes ou doenças relacionadas ao trabalho.\n"
            ]
        },
        {
            "cell_type": "markdown",
            "metadata": {},
            "source": [
                "## Avaliação Clínica\n",
                "\n",
                "### Sinais e Sintomas (S)\n",
                "- **Queixa Principal**: Resumo breve da principal queixa do paciente.\n",
                "- **História da Doença Atual**: Detalhamento da evolução dos sintomas e histórico recente.\n"
            ]
        },
        {
            "cell_type": "markdown",
            "metadata": {},
            "source": [
                "### Exame Físico Geral (O)\n",
                "- Estado geral: **Bom / Regular / Ruim**\n",
                "- Fácies: **Típica / Atípica**\n",
                "- Condições de higiene: **Boas / Regulares / Precárias**\n",
                "- Colaboração: **Colaborativo / Não colaborativo**\n",
                "- Estado mental: **Lúcido, orientado, normovigilante, normotônico**\n",
                "- Estado nutricional: **Eutrófico / Sobrepeso / Baixo peso** (IMC = cálculo obrigatório)\n",
                "- Sinais vitais: **Pressão arterial, frequência cardíaca, temperatura, FR, SpO2**\n"
            ]
        },
        {
            "cell_type": "markdown",
            "metadata": {},
            "source": [
                "### Exame Neurológico\n",
                "- **Nível de consciência**: Lúcido, orientado\n",
                "- **Pupilas**: Isocóricas, isofotorreagentes\n",
                "- **Pares cranianos**: Sem alterações\n",
                "- **Força muscular**: Preservada nos quatro membros\n",
                "- **Reflexos osteotendíneos**: Normais / Hipoativos / Hiperativos\n",
                "- **Coordenação e marcha**: Sem alterações\n",
                "- **Sinais meníngeos**: Negativos\n"
            ]
        },
        {
            "cell_type": "markdown",
            "metadata": {},
            "source": [
                "## Hipótese Diagnóstica (A)\n",
                "Listar possíveis diagnósticos clínicos com base na avaliação.\n",
                "\n",
                "## Diagnóstico Diferencial\n",
                "Possíveis diagnósticos alternativos que precisam ser excluídos.\n",
                "\n",
                "## Plano Terapêutico (P)\n",
                "- Exames laboratoriais / de imagem solicitados\n",
                "- Medicamentos prescritos\n",
                "- Condutas terapêuticas\n",
                "- Encaminhamentos necessários\n"
            ]
        }
    ],
    "metadata": {
        "kernelspec": {
            "display_name": "Python 3",
            "language": "python",
            "name": "python3"
        },
        "language_info": {
            "codemirror_mode": {
                "name": "ipython",
                "version": 3
            },
            "file_extension": ".py",
            "mimetype": "text/x-python",
            "name": "python",
            "nbconvert_exporter": "python",
            "pygments_lexer": "ipython3",
            "version": "3.8.5"
        }
    },
    "nbformat": 4,
    "nbformat_minor": 4
}

# Salvar o notebook como arquivo .ipynb
notebook_filename = "/mnt/data/guia_avaliacao_clinica.ipynb"
with open(notebook_filename, "w", encoding="utf-8") as f:
    json.dump(notebook_content, f)

notebook_filename
